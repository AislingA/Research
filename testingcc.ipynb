{
 "cells": [
  {
   "cell_type": "code",
   "execution_count": 1,
   "id": "57eeeb46-fd73-47e3-b4a8-94ae0eaf28d2",
   "metadata": {},
   "outputs": [
    {
     "name": "stderr",
     "output_type": "stream",
     "text": [
      "yt : [WARNING  ] 2025-06-12 22:01:43,714 Setting code length unit to be 1.0 cm\n",
      "yt : [WARNING  ] 2025-06-12 22:01:43,715 Setting code mass unit to be 1.0 g\n",
      "yt : [WARNING  ] 2025-06-12 22:01:43,716 Setting code time unit to be 1.0 s\n",
      "yt : [INFO     ] 2025-06-12 22:01:43,759 Parameters: current_time              = 1030008396009.7329\n",
      "yt : [INFO     ] 2025-06-12 22:01:43,760 Parameters: domain_dimensions         = [128 128 128]\n",
      "yt : [INFO     ] 2025-06-12 22:01:43,760 Parameters: domain_left_edge          = [-6.17135516e+17 -6.17135516e+17 -6.17135516e+17]\n",
      "yt : [INFO     ] 2025-06-12 22:01:43,761 Parameters: domain_right_edge         = [6.17135516e+17 6.17135516e+17 6.17135516e+17]\n"
     ]
    },
    {
     "data": {
      "text/plain": [
       "Orion2Dataset: /home/jovyan/AAcuna_Research/data.1000.3d.hdf5"
      ]
     },
     "execution_count": 1,
     "metadata": {},
     "output_type": "execute_result"
    }
   ],
   "source": [
    "import yt\n",
    "ds = yt.load('data.1000.3d.hdf5')\n",
    "ds"
   ]
  },
  {
   "cell_type": "code",
   "execution_count": 2,
   "id": "1f06d0fe-20af-4a25-9f4d-0ab7007e3e31",
   "metadata": {
    "scrolled": true
   },
   "outputs": [
    {
     "data": {
      "text/plain": [
       "[('chombo', 'X-magnfield'),\n",
       " ('chombo', 'X-momentum'),\n",
       " ('chombo', 'Y-magnfield'),\n",
       " ('chombo', 'Y-momentum'),\n",
       " ('chombo', 'Z-magnfield'),\n",
       " ('chombo', 'Z-momentum'),\n",
       " ('chombo', 'density'),\n",
       " ('chombo', 'energy-density'),\n",
       " ('chombo', 'gravitational-potential'),\n",
       " ('chombo', 'radiation-energy-density'),\n",
       " ('chombo', 'raytrace-dedt-density'),\n",
       " ('chombo', 'raytrace-dpxdt-density'),\n",
       " ('chombo', 'raytrace-dpydt-density'),\n",
       " ('chombo', 'raytrace-dpzdt-density'),\n",
       " ('chombo', 'tracer1'),\n",
       " ('chombo', 'tracer2'),\n",
       " ('chombo', 'tracer3')]"
      ]
     },
     "execution_count": 2,
     "metadata": {},
     "output_type": "execute_result"
    }
   ],
   "source": [
    "#fields yt found on disk\n",
    "ds.field_list"
   ]
  },
  {
   "cell_type": "code",
   "execution_count": 3,
   "id": "2461732d-82aa-4b39-88d2-df2d8b2286a4",
   "metadata": {
    "scrolled": true
   },
   "outputs": [
    {
     "data": {
      "text/plain": [
       "[('chombo', 'X-magnfield'),\n",
       " ('chombo', 'X-momentum'),\n",
       " ('chombo', 'Y-magnfield'),\n",
       " ('chombo', 'Y-momentum'),\n",
       " ('chombo', 'Z-magnfield'),\n",
       " ('chombo', 'Z-momentum'),\n",
       " ('chombo', 'cell_volume'),\n",
       " ('chombo', 'density'),\n",
       " ('chombo', 'dx'),\n",
       " ('chombo', 'dy'),\n",
       " ('chombo', 'dz'),\n",
       " ('chombo', 'energy-density'),\n",
       " ('chombo', 'gravitational-potential'),\n",
       " ('chombo', 'path_element_x'),\n",
       " ('chombo', 'path_element_y'),\n",
       " ('chombo', 'path_element_z'),\n",
       " ('chombo', 'radiation-energy-density'),\n",
       " ('chombo', 'raytrace-dedt-density'),\n",
       " ('chombo', 'raytrace-dpxdt-density'),\n",
       " ('chombo', 'raytrace-dpydt-density'),\n",
       " ('chombo', 'raytrace-dpzdt-density'),\n",
       " ('chombo', 'tracer1'),\n",
       " ('chombo', 'tracer2'),\n",
       " ('chombo', 'tracer3'),\n",
       " ('chombo', 'volume'),\n",
       " ('chombo', 'x'),\n",
       " ('chombo', 'y'),\n",
       " ('chombo', 'z'),\n",
       " ('gas', 'alfven_speed'),\n",
       " ('gas', 'angular_momentum_magnitude'),\n",
       " ('gas', 'angular_momentum_x'),\n",
       " ('gas', 'angular_momentum_y'),\n",
       " ('gas', 'angular_momentum_z'),\n",
       " ('gas', 'averaged_density'),\n",
       " ('gas', 'cell_mass'),\n",
       " ('gas', 'cell_volume'),\n",
       " ('gas', 'cutting_plane_magnetic_field_x'),\n",
       " ('gas', 'cutting_plane_magnetic_field_y'),\n",
       " ('gas', 'cutting_plane_magnetic_field_z'),\n",
       " ('gas', 'cutting_plane_velocity_x'),\n",
       " ('gas', 'cutting_plane_velocity_y'),\n",
       " ('gas', 'cutting_plane_velocity_z'),\n",
       " ('gas', 'density'),\n",
       " ('gas', 'density_gradient_magnitude'),\n",
       " ('gas', 'density_gradient_x'),\n",
       " ('gas', 'density_gradient_y'),\n",
       " ('gas', 'density_gradient_z'),\n",
       " ('gas', 'dx'),\n",
       " ('gas', 'dy'),\n",
       " ('gas', 'dynamical_time'),\n",
       " ('gas', 'dz'),\n",
       " ('gas', 'four_velocity_magnitude'),\n",
       " ('gas', 'four_velocity_t'),\n",
       " ('gas', 'four_velocity_x'),\n",
       " ('gas', 'four_velocity_y'),\n",
       " ('gas', 'four_velocity_z'),\n",
       " ('gas', 'kinetic_energy_density'),\n",
       " ('gas', 'lorentz_factor'),\n",
       " ('gas', 'mach_alfven'),\n",
       " ('gas', 'magnetic_energy_density'),\n",
       " ('gas', 'magnetic_field_cylindrical_radius'),\n",
       " ('gas', 'magnetic_field_cylindrical_theta'),\n",
       " ('gas', 'magnetic_field_cylindrical_z'),\n",
       " ('gas', 'magnetic_field_divergence'),\n",
       " ('gas', 'magnetic_field_divergence_absolute'),\n",
       " ('gas', 'magnetic_field_los'),\n",
       " ('gas', 'magnetic_field_magnitude'),\n",
       " ('gas', 'magnetic_field_poloidal'),\n",
       " ('gas', 'magnetic_field_poloidal_magnitude'),\n",
       " ('gas', 'magnetic_field_spherical_phi'),\n",
       " ('gas', 'magnetic_field_spherical_radius'),\n",
       " ('gas', 'magnetic_field_spherical_theta'),\n",
       " ('gas', 'magnetic_field_strength'),\n",
       " ('gas', 'magnetic_field_toroidal'),\n",
       " ('gas', 'magnetic_field_toroidal_magnitude'),\n",
       " ('gas', 'magnetic_field_x'),\n",
       " ('gas', 'magnetic_field_y'),\n",
       " ('gas', 'magnetic_field_z'),\n",
       " ('gas', 'magnetic_pressure'),\n",
       " ('gas', 'mass'),\n",
       " ('gas', 'mean_molecular_weight'),\n",
       " ('gas', 'momentum_density_x'),\n",
       " ('gas', 'momentum_density_y'),\n",
       " ('gas', 'momentum_density_z'),\n",
       " ('gas', 'momentum_x'),\n",
       " ('gas', 'momentum_y'),\n",
       " ('gas', 'momentum_z'),\n",
       " ('gas', 'number_density'),\n",
       " ('gas', 'path_element_x'),\n",
       " ('gas', 'path_element_y'),\n",
       " ('gas', 'path_element_z'),\n",
       " ('gas', 'radial_magnetic_field'),\n",
       " ('gas', 'radial_magnetic_field_absolute'),\n",
       " ('gas', 'radial_velocity'),\n",
       " ('gas', 'radial_velocity_absolute'),\n",
       " ('gas', 'radiation_energy_density'),\n",
       " ('gas', 'relative_magnetic_field_x'),\n",
       " ('gas', 'relative_magnetic_field_y'),\n",
       " ('gas', 'relative_magnetic_field_z'),\n",
       " ('gas', 'relative_velocity_x'),\n",
       " ('gas', 'relative_velocity_y'),\n",
       " ('gas', 'relative_velocity_z'),\n",
       " ('gas', 'shear'),\n",
       " ('gas', 'specific_angular_momentum_magnitude'),\n",
       " ('gas', 'specific_angular_momentum_x'),\n",
       " ('gas', 'specific_angular_momentum_y'),\n",
       " ('gas', 'specific_angular_momentum_z'),\n",
       " ('gas', 'specific_kinetic_energy'),\n",
       " ('gas', 'specific_thermal_energy'),\n",
       " ('gas', 'tangential_magnetic_field'),\n",
       " ('gas', 'tangential_over_magnetic_field_magnitude'),\n",
       " ('gas', 'tangential_over_velocity_magnitude'),\n",
       " ('gas', 'tangential_velocity'),\n",
       " ('gas', 'thermal_energy_density'),\n",
       " ('gas', 'total_energy_density'),\n",
       " ('gas', 'velocity_cylindrical_radius'),\n",
       " ('gas', 'velocity_cylindrical_theta'),\n",
       " ('gas', 'velocity_cylindrical_z'),\n",
       " ('gas', 'velocity_divergence'),\n",
       " ('gas', 'velocity_divergence_absolute'),\n",
       " ('gas', 'velocity_los'),\n",
       " ('gas', 'velocity_magnitude'),\n",
       " ('gas', 'velocity_spherical_phi'),\n",
       " ('gas', 'velocity_spherical_radius'),\n",
       " ('gas', 'velocity_spherical_theta'),\n",
       " ('gas', 'velocity_x'),\n",
       " ('gas', 'velocity_y'),\n",
       " ('gas', 'velocity_z'),\n",
       " ('gas', 'volume'),\n",
       " ('gas', 'vorticity_magnitude'),\n",
       " ('gas', 'vorticity_squared'),\n",
       " ('gas', 'vorticity_stretching_magnitude'),\n",
       " ('gas', 'vorticity_stretching_x'),\n",
       " ('gas', 'vorticity_stretching_y'),\n",
       " ('gas', 'vorticity_stretching_z'),\n",
       " ('gas', 'vorticity_x'),\n",
       " ('gas', 'vorticity_y'),\n",
       " ('gas', 'vorticity_z'),\n",
       " ('gas', 'x'),\n",
       " ('gas', 'y'),\n",
       " ('gas', 'z'),\n",
       " ('index', 'cell_volume'),\n",
       " ('index', 'cylindrical_radius'),\n",
       " ('index', 'cylindrical_theta'),\n",
       " ('index', 'cylindrical_z'),\n",
       " ('index', 'dx'),\n",
       " ('index', 'dy'),\n",
       " ('index', 'dz'),\n",
       " ('index', 'grid_indices'),\n",
       " ('index', 'grid_level'),\n",
       " ('index', 'morton_index'),\n",
       " ('index', 'ones'),\n",
       " ('index', 'ones_over_dx'),\n",
       " ('index', 'path_element_x'),\n",
       " ('index', 'path_element_y'),\n",
       " ('index', 'path_element_z'),\n",
       " ('index', 'radius'),\n",
       " ('index', 'spherical_phi'),\n",
       " ('index', 'spherical_radius'),\n",
       " ('index', 'spherical_theta'),\n",
       " ('index', 'virial_radius_fraction'),\n",
       " ('index', 'volume'),\n",
       " ('index', 'x'),\n",
       " ('index', 'y'),\n",
       " ('index', 'z'),\n",
       " ('index', 'zeros')]"
      ]
     },
     "execution_count": 3,
     "metadata": {},
     "output_type": "execute_result"
    }
   ],
   "source": [
    "#fields yt thinks it knows how to generate\n",
    "ds.derived_field_list"
   ]
  },
  {
   "cell_type": "code",
   "execution_count": 4,
   "id": "457548d7-1060-4b60-81ff-db876d47db92",
   "metadata": {},
   "outputs": [
    {
     "data": {
      "application/vnd.jupyter.widget-view+json": {
       "model_id": "f329afb82bf74a7693ab31b719dae9d4",
       "version_major": 2,
       "version_minor": 0
      },
      "text/plain": [
       "HBox(children=(Text(value='1.234271032e+18', disabled=True), Text(value='1.234271032e+18', disabled=True), Tex…"
      ]
     },
     "metadata": {},
     "output_type": "display_data"
    }
   ],
   "source": [
    "ds.domain_width"
   ]
  },
  {
   "cell_type": "code",
   "execution_count": 5,
   "id": "2b4bf81c-292c-40db-aa01-a6ffb5c3371a",
   "metadata": {},
   "outputs": [
    {
     "name": "stdout",
     "output_type": "stream",
     "text": [
      "('io',)\n",
      "('io',)\n",
      "{}\n"
     ]
    }
   ],
   "source": [
    "print(ds.particle_types)\n",
    "print(ds.particle_types_raw)\n",
    "print(ds.particle_type_counts)"
   ]
  },
  {
   "cell_type": "code",
   "execution_count": 7,
   "id": "01edb764-f846-4a15-99e6-c409e9a3b6ed",
   "metadata": {},
   "outputs": [
    {
     "ename": "KeyError",
     "evalue": "\"Unable to synchronously open object (object 'Header' doesn't exist)\"",
     "output_type": "error",
     "traceback": [
      "\u001b[0;31m---------------------------------------------------------------------------\u001b[0m",
      "\u001b[0;31mKeyError\u001b[0m                                  Traceback (most recent call last)",
      "Cell \u001b[0;32mIn[7], line 5\u001b[0m\n\u001b[1;32m      3\u001b[0m \u001b[38;5;28;01mfrom\u001b[39;00m \u001b[38;5;21;01mastropy\u001b[39;00m \u001b[38;5;28;01mimport\u001b[39;00m units \u001b[38;5;28;01mas\u001b[39;00m u\n\u001b[1;32m      4\u001b[0m \u001b[38;5;28;01mwith\u001b[39;00m h5py\u001b[38;5;241m.\u001b[39mFile(\u001b[38;5;124m'\u001b[39m\u001b[38;5;124mdata.1000.3d.hdf5\u001b[39m\u001b[38;5;124m'\u001b[39m, \u001b[38;5;124m'\u001b[39m\u001b[38;5;124mr\u001b[39m\u001b[38;5;124m'\u001b[39m) \u001b[38;5;28;01mas\u001b[39;00m f:\n\u001b[0;32m----> 5\u001b[0m     header \u001b[38;5;241m=\u001b[39m \u001b[43mf\u001b[49m\u001b[43m[\u001b[49m\u001b[38;5;124;43m'\u001b[39;49m\u001b[38;5;124;43mHeader\u001b[39;49m\u001b[38;5;124;43m'\u001b[39;49m\u001b[43m]\u001b[49m\u001b[38;5;241m.\u001b[39mattrs\n\u001b[1;32m      6\u001b[0m     boxsize \u001b[38;5;241m=\u001b[39m header[\u001b[38;5;124m'\u001b[39m\u001b[38;5;124mBoxSize\u001b[39m\u001b[38;5;124m'\u001b[39m]\n\u001b[1;32m      7\u001b[0m     \u001b[38;5;28mprint\u001b[39m(boxsize)\n",
      "File \u001b[0;32mh5py/_objects.pyx:54\u001b[0m, in \u001b[0;36mh5py._objects.with_phil.wrapper\u001b[0;34m()\u001b[0m\n",
      "File \u001b[0;32mh5py/_objects.pyx:55\u001b[0m, in \u001b[0;36mh5py._objects.with_phil.wrapper\u001b[0;34m()\u001b[0m\n",
      "File \u001b[0;32m/opt/conda/lib/python3.11/site-packages/h5py/_hl/group.py:357\u001b[0m, in \u001b[0;36mGroup.__getitem__\u001b[0;34m(self, name)\u001b[0m\n\u001b[1;32m    355\u001b[0m         \u001b[38;5;28;01mraise\u001b[39;00m \u001b[38;5;167;01mValueError\u001b[39;00m(\u001b[38;5;124m\"\u001b[39m\u001b[38;5;124mInvalid HDF5 object reference\u001b[39m\u001b[38;5;124m\"\u001b[39m)\n\u001b[1;32m    356\u001b[0m \u001b[38;5;28;01melif\u001b[39;00m \u001b[38;5;28misinstance\u001b[39m(name, (\u001b[38;5;28mbytes\u001b[39m, \u001b[38;5;28mstr\u001b[39m)):\n\u001b[0;32m--> 357\u001b[0m     oid \u001b[38;5;241m=\u001b[39m \u001b[43mh5o\u001b[49m\u001b[38;5;241;43m.\u001b[39;49m\u001b[43mopen\u001b[49m\u001b[43m(\u001b[49m\u001b[38;5;28;43mself\u001b[39;49m\u001b[38;5;241;43m.\u001b[39;49m\u001b[43mid\u001b[49m\u001b[43m,\u001b[49m\u001b[43m \u001b[49m\u001b[38;5;28;43mself\u001b[39;49m\u001b[38;5;241;43m.\u001b[39;49m\u001b[43m_e\u001b[49m\u001b[43m(\u001b[49m\u001b[43mname\u001b[49m\u001b[43m)\u001b[49m\u001b[43m,\u001b[49m\u001b[43m \u001b[49m\u001b[43mlapl\u001b[49m\u001b[38;5;241;43m=\u001b[39;49m\u001b[38;5;28;43mself\u001b[39;49m\u001b[38;5;241;43m.\u001b[39;49m\u001b[43m_lapl\u001b[49m\u001b[43m)\u001b[49m\n\u001b[1;32m    358\u001b[0m \u001b[38;5;28;01melse\u001b[39;00m:\n\u001b[1;32m    359\u001b[0m     \u001b[38;5;28;01mraise\u001b[39;00m \u001b[38;5;167;01mTypeError\u001b[39;00m(\u001b[38;5;124m\"\u001b[39m\u001b[38;5;124mAccessing a group is done with bytes or str, \u001b[39m\u001b[38;5;124m\"\u001b[39m\n\u001b[1;32m    360\u001b[0m                     \u001b[38;5;124m\"\u001b[39m\u001b[38;5;124mnot \u001b[39m\u001b[38;5;132;01m{}\u001b[39;00m\u001b[38;5;124m\"\u001b[39m\u001b[38;5;241m.\u001b[39mformat(\u001b[38;5;28mtype\u001b[39m(name)))\n",
      "File \u001b[0;32mh5py/_objects.pyx:54\u001b[0m, in \u001b[0;36mh5py._objects.with_phil.wrapper\u001b[0;34m()\u001b[0m\n",
      "File \u001b[0;32mh5py/_objects.pyx:55\u001b[0m, in \u001b[0;36mh5py._objects.with_phil.wrapper\u001b[0;34m()\u001b[0m\n",
      "File \u001b[0;32mh5py/h5o.pyx:241\u001b[0m, in \u001b[0;36mh5py.h5o.open\u001b[0;34m()\u001b[0m\n",
      "\u001b[0;31mKeyError\u001b[0m: \"Unable to synchronously open object (object 'Header' doesn't exist)\""
     ]
    }
   ],
   "source": [
    "import h5py\n",
    "import numpy as np\n",
    "from astropy import units as u\n",
    "with h5py.File('data.1000.3d.hdf5', 'r') as f:\n",
    "    header = f['Header'].attrs\n",
    "    boxsize = header['BoxSize']\n",
    "    print(boxsize)\n",
    "    center = np.full(3, header['BoxSize'] / 2)\n",
    "    print(center)\n",
    "    snaptime = header['Time'] * (u.pc / (u.m / u.s)).to('yr')\n",
    "    print(snaptime)"
   ]
  },
  {
   "cell_type": "code",
   "execution_count": 8,
   "id": "bf8d0d92-746b-423c-85a7-6f44abdb0aa8",
   "metadata": {},
   "outputs": [
    {
     "data": {
      "application/vnd.jupyter.widget-view+json": {
       "model_id": "f72e1f3ed0264d3fb09fd3d4613ecdbc",
       "version_major": 2,
       "version_minor": 0
      },
      "text/plain": [
       "HBox(children=(Text(value='0.0', disabled=True), Text(value='0.0', disabled=True), Text(value='0.0', disabled=…"
      ]
     },
     "metadata": {},
     "output_type": "display_data"
    }
   ],
   "source": [
    "ds.domain_center"
   ]
  },
  {
   "cell_type": "code",
   "execution_count": 9,
   "id": "336ea397-0d56-48cb-b6e3-2436da9e0a93",
   "metadata": {},
   "outputs": [
    {
     "ename": "KeyError",
     "evalue": "'Time'",
     "output_type": "error",
     "traceback": [
      "\u001b[0;31m---------------------------------------------------------------------------\u001b[0m",
      "\u001b[0;31mKeyError\u001b[0m                                  Traceback (most recent call last)",
      "Cell \u001b[0;32mIn[9], line 1\u001b[0m\n\u001b[0;32m----> 1\u001b[0m \u001b[43mds\u001b[49m\u001b[38;5;241;43m.\u001b[39;49m\u001b[43mparameters\u001b[49m\u001b[43m[\u001b[49m\u001b[38;5;124;43m'\u001b[39;49m\u001b[38;5;124;43mTime\u001b[39;49m\u001b[38;5;124;43m'\u001b[39;49m\u001b[43m]\u001b[49m\n",
      "\u001b[0;31mKeyError\u001b[0m: 'Time'"
     ]
    }
   ],
   "source": [
    "ds.parameters['Time']"
   ]
  },
  {
   "cell_type": "code",
   "execution_count": 10,
   "id": "b9e4852f-372a-4597-9c8f-ee9ac651d368",
   "metadata": {},
   "outputs": [
    {
     "data": {
      "text/plain": [
       "unyt_quantity(1.0300084e+12, 'code_time')"
      ]
     },
     "execution_count": 10,
     "metadata": {},
     "output_type": "execute_result"
    }
   ],
   "source": [
    "ds.current_time"
   ]
  },
  {
   "cell_type": "code",
   "execution_count": 11,
   "id": "077c45fe-c1eb-499a-9085-af642077054c",
   "metadata": {},
   "outputs": [
    {
     "data": {
      "text/plain": [
       "unyt_quantity(1.0071342e+21, 'code_time')"
      ]
     },
     "execution_count": 11,
     "metadata": {},
     "output_type": "execute_result"
    }
   ],
   "source": [
    "ds.current_time * (u.pc / (u.m / u.s)).to('yr')"
   ]
  },
  {
   "cell_type": "code",
   "execution_count": null,
   "id": "50aa1d91-db8e-4e99-81f0-10547e4edec8",
   "metadata": {},
   "outputs": [],
   "source": []
  }
 ],
 "metadata": {
  "kernelspec": {
   "display_name": "Python 3 (ipykernel)",
   "language": "python",
   "name": "python3"
  },
  "language_info": {
   "codemirror_mode": {
    "name": "ipython",
    "version": 3
   },
   "file_extension": ".py",
   "mimetype": "text/x-python",
   "name": "python",
   "nbconvert_exporter": "python",
   "pygments_lexer": "ipython3",
   "version": "3.11.9"
  }
 },
 "nbformat": 4,
 "nbformat_minor": 5
}
